{
 "cells": [
  {
   "cell_type": "markdown",
   "id": "11ddd4dd",
   "metadata": {},
   "source": [
    "#If -Elif - Else Statements"
   ]
  },
  {
   "cell_type": "code",
   "execution_count": 3,
   "id": "00fc75dc",
   "metadata": {},
   "outputs": [
    {
     "ename": "SyntaxError",
     "evalue": "invalid syntax (568459314.py, line 2)",
     "output_type": "error",
     "traceback": [
      "\u001b[0;36m  File \u001b[0;32m\"/var/folders/j_/5qmymnz5083bpxbv_zkk11280000gn/T/ipykernel_57539/568459314.py\"\u001b[0;36m, line \u001b[0;32m2\u001b[0m\n\u001b[0;31m    print(It worked!)\u001b[0m\n\u001b[0m             ^\u001b[0m\n\u001b[0;31mSyntaxError\u001b[0m\u001b[0;31m:\u001b[0m invalid syntax\n"
     ]
    }
   ],
   "source": [
    "if 25 > 10:\n",
    " print(It worked!)"
   ]
  },
  {
   "cell_type": "code",
   "execution_count": 6,
   "id": "c97fcb1d",
   "metadata": {},
   "outputs": [
    {
     "name": "stdout",
     "output_type": "stream",
     "text": [
      "It worked!\n"
     ]
    }
   ],
   "source": [
    "if 25 > 10:\n",
    "    print('It worked!')"
   ]
  },
  {
   "cell_type": "code",
   "execution_count": 9,
   "id": "46252d38",
   "metadata": {},
   "outputs": [
    {
     "name": "stdout",
     "output_type": "stream",
     "text": [
      "It did not work...\n"
     ]
    }
   ],
   "source": [
    "if 25 < 10:\n",
    "    print('It worked!')\n",
    "else:\n",
    "    print('It did not work...')"
   ]
  },
  {
   "cell_type": "code",
   "execution_count": 10,
   "id": "916b3814",
   "metadata": {},
   "outputs": [
    {
     "name": "stdout",
     "output_type": "stream",
     "text": [
      "It worked!\n"
     ]
    }
   ],
   "source": [
    "if 25 > 10:\n",
    "    print('It worked!')\n",
    "else:\n",
    "    print('It did not work...')"
   ]
  },
  {
   "cell_type": "code",
   "execution_count": 12,
   "id": "7facc5d2",
   "metadata": {},
   "outputs": [
    {
     "name": "stdout",
     "output_type": "stream",
     "text": [
      "elif 3 worked\n"
     ]
    }
   ],
   "source": [
    "if 25 < 10:\n",
    "    print('It worked!')\n",
    "elif 25 < 20:\n",
    "     print('elif worked')\n",
    "elif 25 < 21:\n",
    "     print('elif 2 worked')\n",
    "elif 25 < 40:\n",
    "     print('elif 3 worked')\n",
    "elif 25 < 50:\n",
    "     print('elif 4 worked')\n",
    "else:\n",
    "    print('It did not work...')"
   ]
  },
  {
   "cell_type": "code",
   "execution_count": 13,
   "id": "d1f694ef",
   "metadata": {},
   "outputs": [
    {
     "name": "stdout",
     "output_type": "stream",
     "text": [
      "It worked!\n"
     ]
    }
   ],
   "source": [
    "if 25 < 10 or (1 < 3):\n",
    "    print('It worked!')\n",
    "elif 25 < 20:\n",
    "     print('elif worked')\n",
    "elif 25 < 21:\n",
    "     print('elif 2 worked')\n",
    "elif 25 < 40:\n",
    "     print('elif 3 worked')\n",
    "elif 25 < 50:\n",
    "     print('elif 4 worked')\n",
    "else:\n",
    "    print('It did not work...')"
   ]
  },
  {
   "cell_type": "code",
   "execution_count": 14,
   "id": "edced38e",
   "metadata": {},
   "outputs": [
    {
     "name": "stdout",
     "output_type": "stream",
     "text": [
      "It did not work!\n"
     ]
    }
   ],
   "source": [
    "print('It worked!') if 10 > 30 else print ('It did not work!')"
   ]
  },
  {
   "cell_type": "code",
   "execution_count": 15,
   "id": "349a625b",
   "metadata": {},
   "outputs": [
    {
     "name": "stdout",
     "output_type": "stream",
     "text": [
      "It worked!\n",
      "This nested if statement worked!\n"
     ]
    }
   ],
   "source": [
    "if 25 < 10 or (1 < 3):\n",
    "    print('It worked!')\n",
    "    if 10 > 5:\n",
    "        print('This nested if statement worked!')\n",
    "elif 25 < 20:\n",
    "     print('elif worked')\n",
    "elif 25 < 21:\n",
    "     print('elif 2 worked')\n",
    "elif 25 < 40:\n",
    "     print('elif 3 worked')\n",
    "elif 25 < 50:\n",
    "     print('elif 4 worked')\n",
    "else:\n",
    "    print('It did not work...')"
   ]
  },
  {
   "cell_type": "code",
   "execution_count": null,
   "id": "edeef6c8",
   "metadata": {},
   "outputs": [],
   "source": []
  }
 ],
 "metadata": {
  "kernelspec": {
   "display_name": "Python 3 (ipykernel)",
   "language": "python",
   "name": "python3"
  },
  "language_info": {
   "codemirror_mode": {
    "name": "ipython",
    "version": 3
   },
   "file_extension": ".py",
   "mimetype": "text/x-python",
   "name": "python",
   "nbconvert_exporter": "python",
   "pygments_lexer": "ipython3",
   "version": "3.9.13"
  }
 },
 "nbformat": 4,
 "nbformat_minor": 5
}
